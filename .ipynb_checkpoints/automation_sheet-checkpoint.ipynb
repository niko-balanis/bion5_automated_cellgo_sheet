{
 "cells": [
  {
   "cell_type": "code",
   "execution_count": 203,
   "id": "63eb4752",
   "metadata": {},
   "outputs": [
    {
     "name": "stdout",
     "output_type": "stream",
     "text": [
      "  target     pgp  step\n",
      "0  MEIS1  PGP001     1\n",
      "1  MEIS1  PGP002     2\n",
      "2   TBX2  PGP003     1\n",
      "3   TBX2  PGP004     2\n",
      "4   TBX2  PGP005     4\n",
      "5  blank  PGP007     3\n",
      "6   PAX3  PGP008     2\n",
      "7   PAX3  PGP009     4\n",
      "8   EGFR  PGP010     3\n",
      "      pgp well\n",
      "0  PGP001   A1\n",
      "1  PGP002   A2\n",
      "2  PGP003   A3\n",
      "3  PGP004   A4\n",
      "4  PGP005   A5\n",
      "5  PGP007   A6\n",
      "6  PGP008   A7\n",
      "7  PGP009   A8\n",
      "8  PGP010   A9\n"
     ]
    }
   ],
   "source": [
    "import pandas as pd\n",
    "import itertools \n",
    "import logging\n",
    "with open('automate.log', 'w'):\n",
    "   pass\n",
    "logging.basicConfig(filename='automate.log',\n",
    "                            filemode='w',\n",
    "                            format='%(asctime)s,%(message)s',\n",
    "                            datefmt='%H:%M:%S',\n",
    "                            level=logging.DEBUG,force=True)\n",
    "key = pd.read_csv(\"data/key.csv\",header=0,  quoting=3)\n",
    "source=pd.read_csv(\"data/source_sheet.csv\",header=0,  quoting=3)\n",
    "print(key)\n",
    "print(source)\n",
    "# number of unique steps\n",
    "num_steps= len(set(key.step))\n",
    "num_targets=len(set(key.target))\n",
    "num_pgps= len(set(key.pgp))\n",
    "g = key.groupby(by = 'step')\n",
    "#list of lists with each sublist all the pgps that can possibly be used in that step\n",
    "pgp_steps = [list(group[1].pgp) for group in g]\n",
    "target_steps = [list(group[1].target) for group in g]\n",
    "# inner product\n",
    "pgp_combos = [p for p in itertools.product(*pgp_steps)]\n",
    "pgp_flat_combos = [proguide for sublist in pgp_combos for proguide in sublist]\n",
    "target_combos = [p for p in itertools.product(*target_steps)]\n",
    "target_flat_combos = [target for sublist in target_combos for target in sublist]\n",
    "num_cellgos=len(combinations)\n",
    "logging.info(f'Number of unique cellgorithm steps is {num_steps}')\n",
    "logging.info(f'Number of proguides used is {num_pgps}')\n",
    "logging.info(f'Number of unique targets is {num_targets}')\n",
    "logging.info(f'Number of unique cellgos|unique TargetWells is {num_cellgos}')\n",
    "logging.info(f'Total number of robotic transfers from source plate is {num_cellgos}*{num_steps}')\n",
    "# make skeletong of automation sheet\n",
    "df = pd.DataFrame(columns=[\"SourceSite\",\"SourceWell\",\"TargetSite\",\"TargetWell\",'pgp','target'])\n",
    "# make 96 well representation as a list of 96 elements\n",
    "wells = [f'{letter}{i}'for letter in ['A','B','C','D','E','F']  for i in range(1, 13)]\n",
    "# as many wells in target plate as number of cellgos, for each well the number of rows is determined by the number \n",
    "# of steps as that is how many transfers have to occur\n",
    "well_rows = [x for item in wells[0:num_cellgos] for x in itertools.repeat(item, num_steps)]\n",
    "df['TargetWell'] = well_rows\n",
    "df['TargetSite'] = 3\n",
    "df['SourceSite'] = 1\n",
    "df['pgp'] = pgp_flat_combos\n",
    "df['target'] = target_flat_combos\n",
    "idx = source.reset_index().set_index('pgp').loc[df.pgp, 'index'].values.tolist()\n",
    "df['SourceWell']=source.well[idx].tolist()\n",
    "df.to_csv('output.txt',sep=',',index=False,quoting=None)\n",
    "pgp_table = df.pgp.value_counts()\n",
    "pgp_max=pgp_table.max()\n",
    "pgp_min=pgp_table.min()\n",
    "max_pgp_list=pgp_table[pgp_table == pgp_max].index.tolist()\n",
    "min_pgp_list=pgp_table[pgp_table == pgp_min].index.tolist()\n",
    "logging.info(f'{max_pgp_list} proguide(s) use the most material. Each proguide(s) requires {steps}*{pgp_max} transfers and 4*{steps}*{pgp_max} ul minimum in the source plate (@ 4ul per transfer)')\n",
    "logging.info(f'{min_pgp_list} proguide(s) use the least material require {steps}*{pgp_min} transfers and 4*{steps}*{pgp_min} ul minimum in the source plate')"
   ]
  }
 ],
 "metadata": {
  "kernelspec": {
   "display_name": "Python 3 (ipykernel)",
   "language": "python",
   "name": "python3"
  },
  "language_info": {
   "codemirror_mode": {
    "name": "ipython",
    "version": 3
   },
   "file_extension": ".py",
   "mimetype": "text/x-python",
   "name": "python",
   "nbconvert_exporter": "python",
   "pygments_lexer": "ipython3",
   "version": "3.8.10"
  }
 },
 "nbformat": 4,
 "nbformat_minor": 5
}
