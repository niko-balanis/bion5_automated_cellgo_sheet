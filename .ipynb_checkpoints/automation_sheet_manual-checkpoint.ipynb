{
 "cells": [
  {
   "cell_type": "code",
   "execution_count": 132,
   "id": "1c18bc89",
   "metadata": {},
   "outputs": [],
   "source": [
    "import pandas as pd\n",
    "import streamlit\n",
    "import itertools \n",
    "import logging\n",
    "from math import ceil\n",
    "import sys\n",
    "sys.tracebacklimit = None\n",
    "\n",
    "\n",
    "mlprep_sites = [1,2,3,4,5,6,7,8]\n",
    "plate_size=24\n",
    "key = pd.read_csv(\"data/manual_key_copy.txt\",header=0, sep=\"\\t\",  quoting=3,keep_default_na=False)\n",
    "key = key.applymap(lambda row: row.replace('\"',\"\"))\n",
    "key = key.applymap(lambda row: row.replace(' ',\"\"))\n",
    "source=pd.read_csv(\"data/source_sheet2_with_site.csv\",header=0,  quoting=3)\n",
    "#print(key)\n",
    "#print(source)\n",
    "pgp_combos_pre = key.values.tolist()\n",
    "pgp_combos_pre = [[element for element in sublist if element != \"\"] for sublist in pgp_combos_pre]\n",
    "pgp_combos = [tuple(x) for x in pgp_combos_pre]\n",
    "pgp_flat_combos = [proguide for sublist in pgp_combos for proguide in sublist]\n",
    "pgp_flat_combos_split = [proguide for sublist in pgp_flat_combos for proguide in sublist.split(\",\")]\n",
    "#keep track of the mlprep_sites\n",
    "source_sites = list(set(source.site))\n",
    "num_sourcesites= len(source_sites)\n",
    "if (num_sourcesites > 2):\n",
    "     raise ValueError(\"You can't use more than two sites in the MLprep for source plates.\") \n",
    "mlprep_sites =  [x for x in mlprep_sites if x not in source_sites]\n",
    "#print(key)\n",
    "#print(source)\n",
    "#print(source_sites)\n",
    "#print(mlprep_sites)\n",
    "#target_combos = [tuple(x) for x in source.values.tolist()]\n",
    "#target_flat_combos = [target for sublist in target_combos for target in sublist]\n"
   ]
  },
  {
   "cell_type": "code",
   "execution_count": 133,
   "id": "70c10196",
   "metadata": {},
   "outputs": [
    {
     "name": "stdout",
     "output_type": "stream",
     "text": [
      "[1, 2]\n",
      "[3, 4, 5, 6, 7, 8]\n",
      "2\n",
      "2\n",
      "4\n",
      "84\n",
      "[3, 4]\n",
      "[5, 6, 7, 8]\n",
      "['A1', 'A2', 'A3', 'A4', 'B1', 'B2', 'B3', 'B4', 'C1', 'C2', 'C3', 'C4', 'D1', 'D2', 'D3', 'D4', 'E1', 'E2', 'E3', 'E4', 'F1', 'F2', 'F3', 'F4', 'A1']\n",
      "25\n",
      "25\n",
      "[3, 3, 3, 3, 3, 3, 3, 3, 3, 3, 3, 3, 3, 3, 3, 3, 3, 3, 3, 3, 3, 3, 3, 3, 4]\n",
      "[3, 3, 3, 3, 3, 3, 3, 3, 3, 3, 3, 3, 3, 3, 3, 3, 3, 3, 3, 3, 3, 3, 3, 3, 3, 3, 3, 3, 3, 3, 3, 3, 3, 3, 3, 3, 3, 3, 3, 3, 3, 3, 3, 3, 3, 3, 3, 3, 3, 3, 3, 3, 3, 3, 3, 3, 3, 3, 3, 3, 3, 3, 3, 3, 3, 3, 3, 3, 3, 3, 3, 3, 3, 3, 3, 3, 3, 3, 3, 3, 3, 3, 4, 4]\n",
      "84\n"
     ]
    }
   ],
   "source": [
    "max_steps= len((key.columns))\n",
    "num_pgps= len(set(pgp_flat_combos_split))\n",
    "num_cellgos = len(key.index)\n",
    "\n",
    "pgp_combos_fixed=[]\n",
    "for element in pgp_combos_pre:\n",
    "    the_list=[map(lambda x: x.strip(), item.split(',')) for item in element]\n",
    "    my_tuple=tuple(item for sub_list in the_list for item in sub_list)\n",
    "    pgp_combos_fixed.append(my_tuple)\n",
    "pgp_combos_fixed_lengths= [len(item) for item in pgp_combos_fixed]\n",
    "\n",
    "wells = [f'{letter}{i}'for letter in ['A','B','C','D','E','F']  for i in range(1, 5)]\n",
    "wells_cycle=list(itertools.islice(itertools.cycle(wells), num_cellgos))\n",
    "well_rows = list(itertools.chain.from_iterable([itertools.repeat(item, count) for item, count in zip(wells_cycle,pgp_combos_fixed_lengths)]))\n",
    "num_targetsites = ceil(len(wells_cycle)/plate_size)\n",
    "num_pipetsites = ceil(len(well_rows)/plate_size)\n",
    "print(source_sites)\n",
    "print(mlprep_sites)\n",
    "if (( num_sourcesites + num_targetsites  + num_pipetsites) > 8):\n",
    "    raise SystemExit(f\"There are 8 total physical sites on the MLprep you can place plates. You are attempting to use {num_sourcesites + num_targetsites  + num_pipetsites} sites. Please lower the number of cellgorithms you are attempting to create to get below 8 total sites . # SourceSites you are attempting to use: {num_sourcesites}. # TargetSites you are attempting to use: {num_targetsites}. # PipetSites you are attempting to use: {num_pipetsites}\")\n",
    "target_sites = mlprep_sites[:num_targetsites]\n",
    "mlprep_sites =  [x for x in mlprep_sites if x not in target_sites]\n",
    "targetsites_sheet=[item for item in target_sites for i in range(plate_size)]\n",
    "targetsites_sheet= targetsites_sheet[:len(wells_cycle)]\n",
    "targetsites_rows = list(itertools.chain.from_iterable([itertools.repeat(item, count) for item, count in zip(targetsites_sheet,pgp_combos_fixed_lengths)]))\n",
    "print(num_sourcesites)\n",
    "print(num_targetsites)\n",
    "print(num_pipetsites)\n",
    "print(len(well_rows))\n",
    "print(target_sites)\n",
    "print(mlprep_sites)\n",
    "print(wells_cycle)\n",
    "print(len(wells_cycle))\n",
    "print(len(targetsites_sheet))\n",
    "print(targetsites_sheet)\n",
    "print(targetsites_rows)\n",
    "print(len(targetsites_rows))"
   ]
  },
  {
   "cell_type": "code",
   "execution_count": 22,
   "id": "f9de43cc",
   "metadata": {},
   "outputs": [
    {
     "data": {
      "text/plain": [
       "125"
      ]
     },
     "execution_count": 22,
     "metadata": {},
     "output_type": "execute_result"
    }
   ],
   "source": [
    "df = pd.DataFrame(columns=[\"SourceSite\",\"SourceWell\",\"TargetSite\",\"TargetWell\",'pgp'])\n",
    "df['TargetWell'] = well_rows\n",
    "df['TargetSite'] = targetsites_rows\n",
    "df['SourceSite'] = 1\n",
    "df['pgp'] = pgp_flat_combos_split\n",
    "idx = source.reset_index().set_index('pgp').loc[df.pgp, 'index'].values.tolist()\n",
    "df['SourceWell']=source.well[idx].tolist()\n",
    "df = pd.merge(left=df,right=source[[\"pgp\",\"target\"]],how=\"left\",on='pgp')\n",
    "df.to_csv('manual_output.txt',sep=',',index=False,quoting=None)\n",
    "df.to_csv('output.txt',sep=',',index=False,quoting=None)\n",
    "pgp_table = df.pgp.value_counts()\n",
    "pgp_max=pgp_table.max()\n",
    "pgp_min=pgp_table.min()\n",
    "max_pgp_list=pgp_table[pgp_table == pgp_max].index.tolist()\n",
    "min_pgp_list=pgp_table[pgp_table == pgp_min].index.tolist()\n",
    "num_targets= len(set(df.target))\n",
    "pipets_needed =len(df.index)\n",
    "print(pgp_combos_fixed_lengths)\n",
    "with open('manual.log', 'w'):\n",
    "   pass\n",
    "logging.basicConfig(filename='manual.log',\n",
    "                            filemode='w',\n",
    "                            format='%(asctime)s,%(message)s',\n",
    "                            datefmt='%H:%M:%S',\n",
    "                            level=logging.DEBUG,force=True)\n",
    "logging.info(f'Max number of unique cellgorithm steps is {max_steps}')\n",
    "logging.info(f'Number of proguides used is {num_pgps}')\n",
    "logging.info(f'Number of unique targets is {num_targets}')\n",
    "logging.info(f'Number of unique cellgos|unique TargetWells is {num_cellgos}')\n",
    "logging.info(f'Total number of pipets needed/robotic transfers is {pipets_needed}')\n",
    "logging.info(f'{max_pgp_list} proguide(s) use the most material. Each proguide(s) requires {pgp_max} transfers and {4  * pgp_max} ul minimum in the source plate (@ 4ul per transfer)')\n",
    "logging.info(f'{min_pgp_list} proguide(s) use the least material require {pgp_min} transfers and {4 * pgp_min} ul minimum in the source plate')"
   ]
  },
  {
   "cell_type": "code",
   "execution_count": 21,
   "id": "bdd3c2bc",
   "metadata": {},
   "outputs": [
    {
     "data": {
      "text/plain": [
       "125"
      ]
     },
     "execution_count": 21,
     "metadata": {},
     "output_type": "execute_result"
    }
   ],
   "source": []
  },
  {
   "cell_type": "code",
   "execution_count": 28,
   "id": "8574f69c",
   "metadata": {},
   "outputs": [
    {
     "name": "stdout",
     "output_type": "stream",
     "text": [
      "      pgp  step\n",
      "0  PGP001     1\n",
      "1  PGP002     2\n",
      "2  PGP003     1\n",
      "3  PGP004     2\n",
      "4  PGP005     4\n",
      "5  PGP007     3\n",
      "6  PGP008     2\n",
      "7  PGP009     4\n",
      "8  PGP010     3\n",
      "  target     pgp well\n",
      "0  MEIS1  PGP001   A1\n",
      "1  blank  PGP002   A2\n",
      "2   TBX2  PGP003   A3\n",
      "3   EGFR  PGP004   A4\n",
      "4    CD8  PGP005   A5\n",
      "5    CD8  PGP007   A6\n",
      "6  IL2RA  PGP008   A7\n",
      "7    ATM  PGP009   A8\n",
      "8  TOP2A  PGP010   A9\n"
     ]
    }
   ],
   "source": [
    "key = pd.read_csv(\"data/key_no_target.csv\", header=0, quoting=3)\n",
    "source = pd.read_csv(\"data/source_sheet1_with_target.csv\", header=0, quoting=3)\n",
    "#key = pd.merge(left=key, right=source[[\"pgp\", \"target\"]], how=\"left\", on=\"pgp\")\n",
    "print(key)\n",
    "print(source)"
   ]
  },
  {
   "cell_type": "code",
   "execution_count": null,
   "id": "b3576f32",
   "metadata": {},
   "outputs": [],
   "source": [
    "source_sites = list(set(source.site))\n",
    "mlprep_sites =  [x for x in mlprep_sites if x not in source_sites]\n",
    "\n",
    "wells_cycle=list(itertools.islice(itertools.cycle(wells), num_cellgos))\n",
    "well_rows = list(itertools.chain.from_iterable([itertools.repeat(item, count) for item, count in zip(wells_cycle,pgp_combos_fixed_lengths)]))\n"
   ]
  },
  {
   "cell_type": "code",
   "execution_count": null,
   "id": "1d1b968c",
   "metadata": {},
   "outputs": [],
   "source": [
    "if num_cellgos > 192\n",
    " raise ValueError('You can construct a max 192 cellgorithms ') "
   ]
  }
 ],
 "metadata": {
  "kernelspec": {
   "display_name": "Python 3 (ipykernel)",
   "language": "python",
   "name": "python3"
  },
  "language_info": {
   "codemirror_mode": {
    "name": "ipython",
    "version": 3
   },
   "file_extension": ".py",
   "mimetype": "text/x-python",
   "name": "python",
   "nbconvert_exporter": "python",
   "pygments_lexer": "ipython3",
   "version": "3.8.10"
  }
 },
 "nbformat": 4,
 "nbformat_minor": 5
}
