{
 "cells": [
  {
   "cell_type": "code",
   "execution_count": 157,
   "id": "1c18bc89",
   "metadata": {},
   "outputs": [
    {
     "name": "stdout",
     "output_type": "stream",
     "text": [
      "PGP001    5\n",
      "PGP002    5\n",
      "PGP003    4\n",
      "PGP004    4\n",
      "PGP005    4\n",
      "PGP006    4\n",
      "PGP007    2\n",
      "PGP008    2\n",
      "Name: pgp, dtype: int64\n"
     ]
    }
   ],
   "source": [
    "import pandas as pd\n",
    "import streamlit\n",
    "import itertools \n",
    "import logging\n",
    "\n",
    "key = pd.read_csv(\"data/manual_key.txt\",header=0, sep=\"\\t\",  quoting=3)\n",
    "key = key.applymap(lambda row: row.replace('\"',\"\"))\n",
    "key = key.applymap(lambda row: row.replace(' ',\"\"))\n",
    "source=pd.read_csv(\"data/source_sheet2.csv\",header=0,  quoting=3)\n",
    "#print(key)\n",
    "#print(source)\n",
    "pgp_combos_pre = key.values.tolist()\n",
    "pgp_combos = [tuple(x) for x in key.values.tolist()]\n",
    "pgp_flat_combos = [proguide for sublist in pgp_combos for proguide in sublist]\n",
    "pgp_flat_combos_split = [proguide for sublist in pgp_flat_combos for proguide in sublist.split(\",\")]\n",
    "\n",
    "target_combos = [tuple(x) for x in source.values.tolist()]\n",
    "target_flat_combos = [target for sublist in target_combos for target in sublist]\n",
    "\n",
    "max_steps= len((key.columns))\n",
    "num_pgps= len(set(pgp_flat_combos_split))\n",
    "num_cellgos = len(key.index)\n",
    "pgp_combos_fixed=[]\n",
    "for element in pgp_combos_pre:\n",
    "    the_list=[map(lambda x: x.strip(), item.split(',')) for item in element]\n",
    "    my_tuple=tuple(item for sub_list in the_list for item in sub_list)\n",
    "    pgp_combos_fixed.append(my_tuple)\n",
    "pgp_combos_fixed_lengths= [len(item) for item in pgp_combos_fixed]\n",
    "wells = [f'{letter}{i}'for letter in ['A','B','C','D','E','F']  for i in range(1, 13)]\n",
    "well_rows = list(itertools.chain.from_iterable([itertools.repeat(item, count) for item, count in zip(wells[0:num_cellgos],pgp_combos_fixed_lengths)]))\n",
    "df = pd.DataFrame(columns=[\"SourceSite\",\"SourceWell\",\"TargetSite\",\"TargetWell\",'pgp'])\n",
    "df['TargetWell'] = well_rows\n",
    "df['TargetSite'] = 3\n",
    "df['SourceSite'] = 1\n",
    "df['pgp'] = pgp_flat_combos_split\n",
    "idx = source.reset_index().set_index('pgp').loc[df.pgp, 'index'].values.tolist()\n",
    "df['SourceWell']=source.well[idx].tolist()\n",
    "df = pd.merge(left=df,right=source[[\"pgp\",\"target\"]],how=\"left\",on='pgp')\n",
    "df.to_csv('manual_output.txt',sep=',',index=False,quoting=None)\n",
    "df.to_csv('output.txt',sep=',',index=False,quoting=None)\n",
    "pgp_table = df.pgp.value_counts()\n",
    "pgp_max=pgp_table.max()\n",
    "pgp_min=pgp_table.min()\n",
    "max_pgp_list=pgp_table[pgp_table == pgp_max].index.tolist()\n",
    "min_pgp_list=pgp_table[pgp_table == pgp_min].index.tolist()\n",
    "num_targets= len(set(df.target))\n",
    "pipets_needed =len(df.index)\n",
    "print(pgp_table)\n",
    "with open('manual.log', 'w'):\n",
    "   pass\n",
    "logging.basicConfig(filename='manual.log',\n",
    "                            filemode='w',\n",
    "                            format='%(asctime)s,%(message)s',\n",
    "                            datefmt='%H:%M:%S',\n",
    "                            level=logging.DEBUG,force=True)\n",
    "logging.info(f'Max number of unique cellgorithm steps is {max_steps}')\n",
    "logging.info(f'Number of proguides used is {num_pgps}')\n",
    "logging.info(f'Number of unique targets is {num_targets}')\n",
    "logging.info(f'Number of unique cellgos|unique TargetWells is {num_cellgos}')\n",
    "logging.info(f'Total number of pipets needed/robotic transfers is {pipets_needed}')\n",
    "logging.info(f'{max_pgp_list} proguide(s) use the most material. Each proguide(s) requires {pgp_max} transfers and {4  * pgp_max} ul minimum in the source plate (@ 4ul per transfer)')\n",
    "logging.info(f'{min_pgp_list} proguide(s) use the least material require {pgp_min} transfers and {4 * pgp_min} ul minimum in the source plate')"
   ]
  },
  {
   "cell_type": "code",
   "execution_count": 155,
   "id": "11964fa6",
   "metadata": {},
   "outputs": [
    {
     "data": {
      "text/plain": [
       "30"
      ]
     },
     "execution_count": 155,
     "metadata": {},
     "output_type": "execute_result"
    }
   ],
   "source": [
    "len(df.index)"
   ]
  },
  {
   "cell_type": "code",
   "execution_count": 156,
   "id": "257b124e",
   "metadata": {},
   "outputs": [
    {
     "data": {
      "text/plain": [
       "5"
      ]
     },
     "execution_count": 156,
     "metadata": {},
     "output_type": "execute_result"
    }
   ],
   "source": [
    "num_cellgos"
   ]
  },
  {
   "cell_type": "code",
   "execution_count": null,
   "id": "a47f0982",
   "metadata": {},
   "outputs": [],
   "source": []
  }
 ],
 "metadata": {
  "kernelspec": {
   "display_name": "Python 3 (ipykernel)",
   "language": "python",
   "name": "python3"
  },
  "language_info": {
   "codemirror_mode": {
    "name": "ipython",
    "version": 3
   },
   "file_extension": ".py",
   "mimetype": "text/x-python",
   "name": "python",
   "nbconvert_exporter": "python",
   "pygments_lexer": "ipython3",
   "version": "3.8.10"
  }
 },
 "nbformat": 4,
 "nbformat_minor": 5
}
